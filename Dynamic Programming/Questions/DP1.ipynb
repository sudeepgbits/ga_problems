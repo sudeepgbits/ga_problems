{
 "cells": [
  {
   "cell_type": "markdown",
   "metadata": {},
   "source": [
    "# Practice Problems from Algo Book"
   ]
  },
  {
   "cell_type": "code",
   "execution_count": 3,
   "metadata": {},
   "outputs": [],
   "source": [
    "import numpy as np"
   ]
  },
  {
   "cell_type": "markdown",
   "metadata": {},
   "source": [
    "## Q 6.1. Contiguous Subsequence\n",
    "\n",
    "### Given subsequence [5,15,-30,10,-5,40,10] The answer of this 55 which comes from 10+-5+40+10"
   ]
  },
  {
   "cell_type": "code",
   "execution_count": 125,
   "metadata": {},
   "outputs": [],
   "source": [
    "def contiguous_subsequence(list1):\n",
    "    seqlen = len(list1)\n",
    "    L = np.zeros(seqlen)\n",
    "    \n",
    "    L[0] = list1[0]\n",
    "    maxval = L[0]\n",
    "    for j in range(1,seqlen,1):\n",
    "        aj = list1[j]\n",
    "        L[j]= max(aj,aj+L[j-1])\n",
    "        if L[j] > maxval:\n",
    "            maxval = L[j]\n",
    "    return maxval      "
   ]
  },
  {
   "cell_type": "code",
   "execution_count": 126,
   "metadata": {},
   "outputs": [
    {
     "name": "stdout",
     "output_type": "stream",
     "text": [
      "55.0\n"
     ]
    }
   ],
   "source": [
    "list1 = [5,15,-30,10,-5,40,10]\n",
    "print(contiguous_subsequence(list1))"
   ]
  },
  {
   "cell_type": "markdown",
   "metadata": {},
   "source": [
    "## Q 6.2. Hotel sequence"
   ]
  },
  {
   "cell_type": "code",
   "execution_count": 127,
   "metadata": {},
   "outputs": [],
   "source": [
    "list1 = np.random.randint(0,150,15)"
   ]
  },
  {
   "cell_type": "code",
   "execution_count": 128,
   "metadata": {},
   "outputs": [],
   "source": [
    "list2 = []\n",
    "for i in range(len(list1)+1):\n",
    "    list2.append(np.sum(list1[:i]))"
   ]
  },
  {
   "cell_type": "code",
   "execution_count": 129,
   "metadata": {},
   "outputs": [
    {
     "name": "stdout",
     "output_type": "stream",
     "text": [
      "[0, 76, 219, 323, 438, 583, 683, 761, 875, 964, 1059, 1098, 1192, 1197, 1222, 1269]\n"
     ]
    }
   ],
   "source": [
    "print(list2)"
   ]
  },
  {
   "cell_type": "markdown",
   "metadata": {},
   "source": [
    "## Q 6.4. Corrupted Text "
   ]
  },
  {
   "cell_type": "code",
   "execution_count": 130,
   "metadata": {},
   "outputs": [],
   "source": [
    "def reconstruct(string,dict1):\n",
    "    output = \"\"\n",
    "    for i in range(len(string)):\n",
    "        for j in range(i):\n",
    "            word = string[j:i+1]\n",
    "            if word in dict1:\n",
    "                output = output + word + \" \"\n",
    "    return output"
   ]
  },
  {
   "cell_type": "code",
   "execution_count": 131,
   "metadata": {},
   "outputs": [],
   "source": [
    "string = \"itwasthebestoftimes...\"\n",
    "dict1 = [\"it\", \"was\", \"the\", \"best\", \"of\", \"times\", \".\"]"
   ]
  },
  {
   "cell_type": "code",
   "execution_count": 132,
   "metadata": {},
   "outputs": [
    {
     "name": "stdout",
     "output_type": "stream",
     "text": [
      "it was the best of times \n"
     ]
    }
   ],
   "source": [
    "print(reconstruct(string,dict1))"
   ]
  },
  {
   "cell_type": "markdown",
   "metadata": {},
   "source": [
    "## Knapsack Problem (Lectures)"
   ]
  },
  {
   "cell_type": "code",
   "execution_count": 133,
   "metadata": {},
   "outputs": [],
   "source": [
    "def knapsack(weights, values, B):\n",
    "    n = len(values)\n",
    "    K = np.zeros((n,B+1))\n",
    "    for i in range(1,n,1):\n",
    "        for b in range(0,B+1,1):\n",
    "            if weights[i]<= b:\n",
    "                K[i,b] = max(K[i-1,b-weights[i]] + values[i], K[i-1,b])\n",
    "            else:\n",
    "                K[i,b] = K[i-1,b]\n",
    "    print(K)\n",
    "    return K[n-1,-1]"
   ]
  },
  {
   "cell_type": "code",
   "execution_count": 134,
   "metadata": {},
   "outputs": [
    {
     "name": "stdout",
     "output_type": "stream",
     "text": [
      "[[ 0.  0.  0.  0.  0.  0.  0.  0.  0.  0.  0.  0.  0.  0.  0.  0.  0.  0.\n",
      "   0.  0.  0.  0.  0.]\n",
      " [ 0.  0.  0.  0.  0.  0.  0.  0.  0.  0.  0.  0. 10. 10. 10. 10. 10. 10.\n",
      "  10. 10. 10. 10. 10.]\n",
      " [ 0.  0.  0.  0.  0.  0.  0.  0.  0.  0.  8.  8. 10. 10. 10. 10. 10. 10.\n",
      "  10. 10. 10. 10. 18.]\n",
      " [ 0.  0.  0.  0.  0.  1.  1.  1.  1.  1.  8.  8. 10. 10. 10. 10. 10. 11.\n",
      "  11. 11. 11. 11. 18.]]\n",
      "18.0\n"
     ]
    }
   ],
   "source": [
    "weights = [15,12,10,5]\n",
    "values = [15,10,8,1]\n",
    "B = 22\n",
    "print(knapsack(weights, values, B))"
   ]
  },
  {
   "cell_type": "markdown",
   "metadata": {},
   "source": [
    "## Q.6.7) Longest Palindrome Subsequence\n",
    "\n",
    "### Explanation to the solution can be found here: https://youtu.be/TLaGwTnd3HY \n",
    "#### - credits https://www.geeksforgeeks.org/longest-palindromic-subsequence-dp-12/"
   ]
  },
  {
   "cell_type": "code",
   "execution_count": 135,
   "metadata": {},
   "outputs": [],
   "source": [
    "def longest_palindrome_subsequenece(seq):\n",
    "    n = len(seq)\n",
    "    L = np.zeros((n,n))\n",
    "    for i in range(n):\n",
    "        L[i][i] = 1\n",
    "    for sl in range(2,n+1,1):\n",
    "        for i in range(0,n-sl+1):\n",
    "            j = i + sl -1\n",
    "            if seq[i] == seq[j]:\n",
    "                L[i,j] = L[i+1,j-1] + 2\n",
    "            else:\n",
    "                L[i,j] = max(L[i+1,j],L[i,j-1])\n",
    "    #print(L)\n",
    "    return L[0,n-1]"
   ]
  },
  {
   "cell_type": "code",
   "execution_count": 136,
   "metadata": {},
   "outputs": [
    {
     "name": "stdout",
     "output_type": "stream",
     "text": [
      "8.0\n"
     ]
    }
   ],
   "source": [
    "seq = \"BABCBAB\"\n",
    "seq = \"ACGTGTCAAAATCG\"\n",
    "print(longest_palindrome_subsequenece(seq))"
   ]
  },
  {
   "cell_type": "markdown",
   "metadata": {},
   "source": [
    "## Q.6.17) Denomination for value V"
   ]
  },
  {
   "cell_type": "code",
   "execution_count": 137,
   "metadata": {},
   "outputs": [],
   "source": [
    "def tender_change(deno, value):\n",
    "    n = len(deno)\n",
    "    K = np.zeros(value+1)\n",
    "    #print(n)\n",
    "    for g in range(1,value+1,1):\n",
    "        for i in range(len(deno)):\n",
    "            #print(i)\n",
    "            if g >= deno[i] and K[g]!=value:\n",
    "                K[g] = K[g-deno[i]] + deno[i]\n",
    "    #print(K)\n",
    "    if K[-1] == value:\n",
    "        return True\n",
    "    else:\n",
    "        return False\n",
    "    \n",
    "    "
   ]
  },
  {
   "cell_type": "code",
   "execution_count": 138,
   "metadata": {},
   "outputs": [
    {
     "name": "stdout",
     "output_type": "stream",
     "text": [
      "True\n"
     ]
    }
   ],
   "source": [
    "deno = [3,5,2]\n",
    "value = 13\n",
    "print(tender_change(deno, value))"
   ]
  },
  {
   "cell_type": "markdown",
   "metadata": {},
   "source": [
    "## Q.6.18) Denomination for value V (use denomination at most once)"
   ]
  },
  {
   "cell_type": "code",
   "execution_count": 139,
   "metadata": {},
   "outputs": [],
   "source": [
    "def tender_change1(deno, value):\n",
    "    n = len(deno)\n",
    "    K = np.zeros((n,value+1))\n",
    "    #print(n)\n",
    "    for i in range(0,n,1):\n",
    "        for g in range(1,value+1,1):\n",
    "        \n",
    "            #print(i)\n",
    "            if g >= deno[i] and K[i,g]!=value:\n",
    "                K[i,g] = K[i-1,g-deno[i]] + deno[i]\n",
    "            else:\n",
    "                K[i,g] = K[i-1,g]\n",
    "    #print(K)\n",
    "    if K[-1,-1] == value:\n",
    "        return True\n",
    "    else:\n",
    "        return False"
   ]
  },
  {
   "cell_type": "code",
   "execution_count": 140,
   "metadata": {},
   "outputs": [
    {
     "name": "stdout",
     "output_type": "stream",
     "text": [
      "False\n"
     ]
    }
   ],
   "source": [
    "deno = [1,5,10,20]\n",
    "value = 40\n",
    "print(tender_change1(deno, value))"
   ]
  },
  {
   "cell_type": "markdown",
   "metadata": {},
   "source": [
    "## Q.6.19) Denomination for value V (Minimum coins to tender a change)"
   ]
  },
  {
   "cell_type": "code",
   "execution_count": 250,
   "metadata": {},
   "outputs": [],
   "source": [
    "def tender_change2(deno, value,count):\n",
    "    n = len(deno)\n",
    "    #K = np.zeros((n,value+1))\n",
    "    K = np.zeros(value+1)\n",
    "    #K = K * np.float(\"inf\")\n",
    "    #print(n)\n",
    "    K[0]  = 0\n",
    "    print(np.linspace(0,15,16))\n",
    "    for i in range(1,value+1,1):\n",
    "        K[i] = np.float(\"inf\")\n",
    "        for j in range(0,n,1):\n",
    "            if deno[j]<=i:\n",
    "                #print(\"here\")\n",
    "                sub_res = K[i-deno[j]]\n",
    "                if (sub_res != np.float(\"inf\")): \n",
    "                    K[i] = min(K[i],sub_res + 1)\n",
    "                \n",
    "                \n",
    "    print(K)\n",
    "    return K[-1]\n"
   ]
  },
  {
   "cell_type": "code",
   "execution_count": 253,
   "metadata": {},
   "outputs": [
    {
     "name": "stdout",
     "output_type": "stream",
     "text": [
      "[ 0.  1.  2.  3.  4.  5.  6.  7.  8.  9. 10. 11. 12. 13. 14. 15.]\n",
      "[0. 1. 2. 3. 4. 1. 2. 3. 4. 5. 1. 2. 3. 4. 5. 2.]\n",
      "2.0\n"
     ]
    }
   ],
   "source": [
    "deno = [1,5,10,20]\n",
    "value = 15\n",
    "count = 4\n",
    "print(tender_change2(deno, value,count))"
   ]
  },
  {
   "cell_type": "markdown",
   "metadata": {},
   "source": [
    "## Q.6.20 Optimal Binary Search Tree"
   ]
  },
  {
   "cell_type": "code",
   "execution_count": 291,
   "metadata": {},
   "outputs": [],
   "source": [
    "def sum1(freq, i, j): \n",
    "    s = 0\n",
    "    for k in range(i, j+1): \n",
    "        s += freq[k]  \n",
    "    return s  \n",
    "\n",
    "def optimal_tree(keys, freq):\n",
    "    n = len(keys)\n",
    "    #print(n)\n",
    "    cost = np.ones((n,n))\n",
    "    cost = cost * np.float(\"inf\")\n",
    "    for i in range(n):\n",
    "        cost[i,i] = freq[i]\n",
    "    for L in range(2,n+1):\n",
    "        for i in range(n+2-L):\n",
    "            j = i + L -1\n",
    "            #print(j)\n",
    "            if i >=n or j >= n:\n",
    "                break\n",
    "            for r in range(i,j+1):\n",
    "                c = 0\n",
    "                if keys[r] > keys[i]:\n",
    "                    c += cost[i,r-1]\n",
    "                elif keys[j]>keys[r]:\n",
    "                    c += cost[r+1,j]\n",
    "                    \n",
    "                c += sum1(freq,i,j)\n",
    "                cost[i,j] = min(cost[i,j],c)\n",
    "    print(cost)\n",
    "    return cost[0][n - 1]     \n",
    "    "
   ]
  },
  {
   "cell_type": "code",
   "execution_count": 292,
   "metadata": {},
   "outputs": [
    {
     "name": "stdout",
     "output_type": "stream",
     "text": [
      "[[0.05 0.5  0.58 0.62 0.72 0.82 1.05]\n",
      " [ inf 0.4  0.56 0.68 0.92 1.12 1.35]\n",
      " [ inf  inf 0.08 0.16 0.3  0.4  0.63]\n",
      " [ inf  inf  inf 0.04 0.18 0.28 0.51]\n",
      " [ inf  inf  inf  inf 0.1  0.3  0.53]\n",
      " [ inf  inf  inf  inf  inf 0.1  0.43]\n",
      " [ inf  inf  inf  inf  inf  inf 0.23]]\n",
      "1.05\n"
     ]
    }
   ],
   "source": [
    "keywords = ['begin','do','else','end','if','then','while']\n",
    "frequency = [0.05,0.40,0.08,0.04,0.10,0.10,0.23]\n",
    "print(optimal_tree(keywords, frequency))"
   ]
  },
  {
   "cell_type": "markdown",
   "metadata": {},
   "source": [
    "## Q 6.15 Probability of A winning n games"
   ]
  },
  {
   "cell_type": "code",
   "execution_count": 17,
   "metadata": {},
   "outputs": [],
   "source": [
    "def proba(n,a,b):\n",
    "    Pa = 0.5\n",
    "    Pb = 1.0-Pa\n",
    "    P = np.zeros((n,n))\n",
    "    for i in range(0,n):\n",
    "        P[i,n-1] = Pa**(n-i)\n",
    "    #print(P)\n",
    "    for i in range(n-1,-1,-1):\n",
    "        for j in range(n-2,-1,-1):\n",
    "            P[i,j] = P[i,j+1] + ((Pa **(n-i)) * (Pb**(n-1-j)) )\n",
    "    #print(P)\n",
    "    return P[a,b]"
   ]
  },
  {
   "cell_type": "code",
   "execution_count": 19,
   "metadata": {},
   "outputs": [
    {
     "name": "stdout",
     "output_type": "stream",
     "text": [
      "0.875\n"
     ]
    }
   ],
   "source": [
    "n = 8\n",
    "a = 7\n",
    "b = 5\n",
    "print(proba(n,a,b))"
   ]
  },
  {
   "cell_type": "markdown",
   "metadata": {},
   "source": [
    "## DP HW - Problem 1: Longest Sub*!?*"
   ]
  },
  {
   "cell_type": "code",
   "execution_count": 5,
   "metadata": {},
   "outputs": [],
   "source": [
    "X = \"abdbabfgd\"\n",
    "Y = \"betfdbfafr\""
   ]
  },
  {
   "cell_type": "code",
   "execution_count": 30,
   "metadata": {},
   "outputs": [],
   "source": [
    "def subseqstr(X,Y):\n",
    "    m = len(X)\n",
    "    n = len(Y)\n",
    "    #T = np.zeros((m,n))\n",
    "    T = np.zeros(m+1)\n",
    "    \n",
    "    for j in range(n):\n",
    "        if X[0] == Y[j]:\n",
    "            T[0] =1\n",
    "    tempj = -1\n",
    "    maxval = 0\n",
    "    for i in range(1,m):\n",
    "        for j in range(0,n):\n",
    "            if X[i] == Y[j]:\n",
    "                T[i] = 1\n",
    "                for k in range(j):\n",
    "                    if X[i-1] == Y[k]:\n",
    "                        T[i] = T[i-1] + 1\n",
    "                        tempj = j\n",
    "        maxval = max(maxval,T[i])\n",
    "                    \n",
    "    print(T)\n",
    "    return maxval"
   ]
  },
  {
   "cell_type": "code",
   "execution_count": 87,
   "metadata": {},
   "outputs": [],
   "source": [
    "def subseqstr1(X,Y):\n",
    "    m = len(X)\n",
    "    n = len(Y)\n",
    "    T = np.zeros((m+1,n+1))\n",
    "    #T = np.zeros(m+1)\n",
    "    \n",
    "    \n",
    "    #print(T)\n",
    "        \n",
    "    tempj = 0\n",
    "    maxval = 0\n",
    "    for i in range(1,m+1):\n",
    "        for j in range(1,n+1):\n",
    "            T[i,j] = T[i,j-1]\n",
    "            if X[i-1] == Y[j-1]:\n",
    "                T[i,j] = max(T[i-1,j-1] + 1,T[i,j])\n",
    "            \n",
    "            maxval = max(maxval,T[i,j])\n",
    "                    \n",
    "    print(T)\n",
    "    return maxval"
   ]
  },
  {
   "cell_type": "code",
   "execution_count": 88,
   "metadata": {
    "scrolled": true
   },
   "outputs": [
    {
     "name": "stdout",
     "output_type": "stream",
     "text": [
      "[[0. 0. 0. 0. 0. 0. 0. 0. 0. 0. 0.]\n",
      " [0. 0. 0. 0. 0. 0. 0. 0. 1. 1. 1.]\n",
      " [0. 1. 1. 1. 1. 1. 1. 1. 1. 1. 1.]\n",
      " [0. 0. 0. 0. 0. 2. 2. 2. 2. 2. 2.]\n",
      " [0. 1. 1. 1. 1. 1. 3. 3. 3. 3. 3.]\n",
      " [0. 0. 0. 0. 0. 0. 0. 0. 4. 4. 4.]\n",
      " [0. 1. 1. 1. 1. 1. 1. 1. 1. 1. 1.]\n",
      " [0. 0. 0. 0. 2. 2. 2. 2. 2. 2. 2.]\n",
      " [0. 0. 0. 0. 0. 0. 0. 0. 0. 0. 0.]\n",
      " [0. 0. 0. 0. 0. 1. 1. 1. 1. 1. 1.]]\n",
      "4.0\n"
     ]
    }
   ],
   "source": [
    "X = \"abdbabfgd\"\n",
    "Y = \"betfdbfafr\"\n",
    "print(subseqstr1(X,Y))"
   ]
  },
  {
   "cell_type": "code",
   "execution_count": 84,
   "metadata": {},
   "outputs": [
    {
     "name": "stdout",
     "output_type": "stream",
     "text": [
      "[[0. 0. 0. 0.]\n",
      " [0. 1. 1. 1.]\n",
      " [0. 1. 1. 2.]\n",
      " [0. 1. 1. 2.]]\n",
      "2.0\n"
     ]
    }
   ],
   "source": [
    "Y = \"ABCD\"\n",
    "X = \"BACDBDCD\"\n",
    "print(subseqstr1(X,Y))"
   ]
  },
  {
   "cell_type": "code",
   "execution_count": 107,
   "metadata": {},
   "outputs": [],
   "source": [
    "def subseqstr2(X,Y):\n",
    "    m = len(X)\n",
    "    n = len(Y)\n",
    "    #T = np.zeros((m,n))\n",
    "    T = np.zeros(m+1)\n",
    "    \n",
    "    for j in range(n):\n",
    "        if X[0] == Y[j]:\n",
    "            T[0] =1\n",
    "    tempj = -1\n",
    "    maxval = T[0]\n",
    "    for i in range(1,m):\n",
    "        for j in range(0,n):\n",
    "            if X[i] == Y[j] :\n",
    "                T[i] = 1\n",
    "                if tempj == -1:\n",
    "                    tempj = j\n",
    "                elif X[i-1] == Y[tempj] and j>tempj:\n",
    "                    T[i] = T[i-1] + 1\n",
    "                    tempj = j\n",
    "            #print(tempj)\n",
    "        maxval = max(maxval,T[i])\n",
    "                    \n",
    "    print(T)\n",
    "    return maxval"
   ]
  },
  {
   "cell_type": "code",
   "execution_count": 111,
   "metadata": {},
   "outputs": [
    {
     "name": "stdout",
     "output_type": "stream",
     "text": [
      "[1. 1. 2. 3. 4. 1. 1. 0. 1. 0.]\n",
      "4.0\n"
     ]
    }
   ],
   "source": [
    "X = \"abdbabfgd\"\n",
    "Y = \"betfdbfafr\"\n",
    "print(subseqstr2(X,Y))"
   ]
  },
  {
   "cell_type": "code",
   "execution_count": 112,
   "metadata": {},
   "outputs": [
    {
     "name": "stdout",
     "output_type": "stream",
     "text": [
      "[1. 1. 2. 3. 1. 1. 1. 1. 0.]\n",
      "3.0\n"
     ]
    }
   ],
   "source": [
    "Y = \"ABCD\"\n",
    "X = \"BACDBDCD\"\n",
    "print(subseqstr2(X,Y))"
   ]
  },
  {
   "cell_type": "markdown",
   "metadata": {},
   "source": [
    "## Q 6.22 Subsets of a list sum to t"
   ]
  },
  {
   "cell_type": "code",
   "execution_count": 45,
   "metadata": {},
   "outputs": [],
   "source": [
    "def sumto_n(list1, n):\n",
    "    T = np.zeros(n+2)\n",
    "    #i_list = []\n",
    "    for i in range(1,n+2,1):\n",
    "        #i_list.append(i)\n",
    "        for ele in list1:\n",
    "            if ele <= i:\n",
    "                if i - ele != ele:\n",
    "                    T[i] = ele + T[i-ele]\n",
    "                    \n",
    "                    if i != T[i]:\n",
    "                        T[i] = 0\n",
    "    #print(i_list)                \n",
    "    print(T)\n",
    "    return T[n]\n",
    "    "
   ]
  },
  {
   "cell_type": "code",
   "execution_count": 47,
   "metadata": {},
   "outputs": [
    {
     "name": "stdout",
     "output_type": "stream",
     "text": [
      "[ 0.  0.  0.  3.  0.  5.  0.  0.  8.  0.  0. 11.  0. 13.  0.  0. 16.  0.\n",
      "  0.]\n",
      "0.0\n"
     ]
    }
   ],
   "source": [
    "list1 = [3,5,8]\n",
    "n = 17\n",
    "print(sumto_n(list1, n))"
   ]
  },
  {
   "cell_type": "code",
   "execution_count": null,
   "metadata": {},
   "outputs": [],
   "source": []
  },
  {
   "cell_type": "code",
   "execution_count": null,
   "metadata": {},
   "outputs": [],
   "source": []
  }
 ],
 "metadata": {
  "kernelspec": {
   "display_name": "Python 3",
   "language": "python",
   "name": "python3"
  },
  "language_info": {
   "codemirror_mode": {
    "name": "ipython",
    "version": 3
   },
   "file_extension": ".py",
   "mimetype": "text/x-python",
   "name": "python",
   "nbconvert_exporter": "python",
   "pygments_lexer": "ipython3",
   "version": "3.7.4"
  }
 },
 "nbformat": 4,
 "nbformat_minor": 2
}
