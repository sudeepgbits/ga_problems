{
 "cells": [
  {
   "cell_type": "markdown",
   "metadata": {},
   "source": [
    "# Practice Problems from Algo Book"
   ]
  },
  {
   "cell_type": "code",
   "execution_count": 3,
   "metadata": {},
   "outputs": [],
   "source": [
    "import numpy as np"
   ]
  },
  {
   "cell_type": "markdown",
   "metadata": {},
   "source": [
    "## Q 6.1. Contiguous Subsequence\n",
    "\n",
    "### Given subsequence [5,15,-30,10,-5,40,10] The answer of this 55 which comes from 10+-5+40+10"
   ]
  },
  {
   "cell_type": "code",
   "execution_count": 2,
   "metadata": {},
   "outputs": [],
   "source": [
    "def contiguous_subsequence(list1):\n",
    "    seqlen = len(list1)\n",
    "    L = np.zeros(seqlen)\n",
    "    \n",
    "    L[0] = list1[0]\n",
    "    maxval = L[0]\n",
    "    for j in range(1,seqlen,1):\n",
    "        aj = list1[j]\n",
    "        L[j]= max(aj,aj+L[j-1])\n",
    "        if L[j] > maxval:\n",
    "            maxval = L[j]\n",
    "    return maxval      "
   ]
  },
  {
   "cell_type": "code",
   "execution_count": 6,
   "metadata": {},
   "outputs": [
    {
     "name": "stdout",
     "output_type": "stream",
     "text": [
      "55.0\n"
     ]
    }
   ],
   "source": [
    "list1 = [5,15,-30,10,-5,40,10]\n",
    "print(contiguous_subsequence(list1))"
   ]
  },
  {
   "cell_type": "markdown",
   "metadata": {},
   "source": [
    "## Q 6.2. Hotel sequence"
   ]
  },
  {
   "cell_type": "code",
   "execution_count": 16,
   "metadata": {},
   "outputs": [],
   "source": [
    "list1 = np.random.randint(0,150,15)"
   ]
  },
  {
   "cell_type": "code",
   "execution_count": 27,
   "metadata": {},
   "outputs": [],
   "source": [
    "list2 = []\n",
    "for i in range(len(list1)+1):\n",
    "    list2.append(np.sum(list1[:i]))"
   ]
  },
  {
   "cell_type": "code",
   "execution_count": 28,
   "metadata": {},
   "outputs": [
    {
     "name": "stdout",
     "output_type": "stream",
     "text": [
      "[0, 99, 116, 154, 195, 248, 251, 326, 371, 448, 521, 555, 688, 754, 755, 842]\n"
     ]
    }
   ],
   "source": [
    "print(list2)"
   ]
  },
  {
   "cell_type": "markdown",
   "metadata": {},
   "source": [
    "## Q 6.4. Corrupted Text "
   ]
  },
  {
   "cell_type": "code",
   "execution_count": 12,
   "metadata": {},
   "outputs": [],
   "source": [
    "def reconstruct(string,dict1):\n",
    "    output = \"\"\n",
    "    for i in range(len(string)):\n",
    "        for j in range(i):\n",
    "            word = string[j:i+1]\n",
    "            if word in dict1:\n",
    "                output = output + word + \" \"\n",
    "    return output"
   ]
  },
  {
   "cell_type": "code",
   "execution_count": 13,
   "metadata": {},
   "outputs": [],
   "source": [
    "string = \"itwasthebestoftimes...\"\n",
    "dict1 = [\"it\", \"was\", \"the\", \"best\", \"of\", \"times\", \".\"]"
   ]
  },
  {
   "cell_type": "code",
   "execution_count": 14,
   "metadata": {},
   "outputs": [
    {
     "name": "stdout",
     "output_type": "stream",
     "text": [
      "it was the best of times \n"
     ]
    }
   ],
   "source": [
    "print(reconstruct(string,dict1))"
   ]
  },
  {
   "cell_type": "markdown",
   "metadata": {},
   "source": [
    "## Knapsack Problem"
   ]
  },
  {
   "cell_type": "code",
   "execution_count": 63,
   "metadata": {},
   "outputs": [],
   "source": [
    "def knapsack(weights, values, B):\n",
    "    n = len(values)\n",
    "    K = np.zeros((n+1,B+1))\n",
    "    for i in range(1,n,1):\n",
    "        for b in range(1,B+1,1):\n",
    "            if weights[i]<= b:\n",
    "                K[i,b] = max(K[i-1,b-1] + values[i], K[i-1,b])\n",
    "            else:\n",
    "                K[i,b] = K[i-1,b]\n",
    "    return K[n-1,B-1]"
   ]
  },
  {
   "cell_type": "code",
   "execution_count": 64,
   "metadata": {},
   "outputs": [
    {
     "name": "stdout",
     "output_type": "stream",
     "text": [
      "19.0\n"
     ]
    }
   ],
   "source": [
    "weights = [15,12,10,5]\n",
    "values = [15,10,8,1]\n",
    "B = 22\n",
    "print(knapsack(weights, values, B))"
   ]
  },
  {
   "cell_type": "code",
   "execution_count": null,
   "metadata": {},
   "outputs": [],
   "source": []
  },
  {
   "cell_type": "code",
   "execution_count": null,
   "metadata": {},
   "outputs": [],
   "source": []
  }
 ],
 "metadata": {
  "kernelspec": {
   "display_name": "Python 3",
   "language": "python",
   "name": "python3"
  },
  "language_info": {
   "codemirror_mode": {
    "name": "ipython",
    "version": 3
   },
   "file_extension": ".py",
   "mimetype": "text/x-python",
   "name": "python",
   "nbconvert_exporter": "python",
   "pygments_lexer": "ipython3",
   "version": "3.7.4"
  }
 },
 "nbformat": 4,
 "nbformat_minor": 2
}
