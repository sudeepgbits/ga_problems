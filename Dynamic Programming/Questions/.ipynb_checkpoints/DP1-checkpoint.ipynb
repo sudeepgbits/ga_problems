{
 "cells": [
  {
   "cell_type": "markdown",
   "metadata": {},
   "source": [
    "# Practice Problems from Algo Book"
   ]
  },
  {
   "cell_type": "code",
   "execution_count": 3,
   "metadata": {},
   "outputs": [],
   "source": [
    "import numpy as np"
   ]
  },
  {
   "cell_type": "markdown",
   "metadata": {},
   "source": [
    "## Q 6.1. Contiguous Subsequence\n",
    "\n",
    "### Given subsequence [5,15,-30,10,-5,40,10] The answer of this 55 which comes from 10+-5+40+10"
   ]
  },
  {
   "cell_type": "code",
   "execution_count": 4,
   "metadata": {},
   "outputs": [],
   "source": [
    "def contiguous_subsequence(list1):\n",
    "    seqlen = len(list1)\n",
    "    L = np.zeros(seqlen)\n",
    "    \n",
    "    L[0] = list1[0]\n",
    "    maxval = L[0]\n",
    "    for j in range(1,seqlen,1):\n",
    "        aj = list1[j]\n",
    "        L[j]= max(aj,aj+L[j-1])\n",
    "        if L[j] > maxval:\n",
    "            maxval = L[j]\n",
    "    return maxval      "
   ]
  },
  {
   "cell_type": "code",
   "execution_count": 5,
   "metadata": {},
   "outputs": [
    {
     "name": "stdout",
     "output_type": "stream",
     "text": [
      "55.0\n"
     ]
    }
   ],
   "source": [
    "list1 = [5,15,-30,10,-5,40,10]\n",
    "print(contiguous_subsequence(list1))"
   ]
  },
  {
   "cell_type": "markdown",
   "metadata": {},
   "source": [
    "## Q 6.2. Hotel sequence"
   ]
  },
  {
   "cell_type": "code",
   "execution_count": 6,
   "metadata": {},
   "outputs": [],
   "source": [
    "list1 = np.random.randint(0,150,15)"
   ]
  },
  {
   "cell_type": "code",
   "execution_count": 7,
   "metadata": {},
   "outputs": [],
   "source": [
    "list2 = []\n",
    "for i in range(len(list1)+1):\n",
    "    list2.append(np.sum(list1[:i]))"
   ]
  },
  {
   "cell_type": "code",
   "execution_count": 8,
   "metadata": {},
   "outputs": [
    {
     "name": "stdout",
     "output_type": "stream",
     "text": [
      "[0, 6, 17, 37, 98, 181, 213, 247, 329, 470, 560, 586, 722, 807, 839, 913]\n"
     ]
    }
   ],
   "source": [
    "print(list2)"
   ]
  },
  {
   "cell_type": "markdown",
   "metadata": {},
   "source": [
    "## Q 6.4. Corrupted Text "
   ]
  },
  {
   "cell_type": "code",
   "execution_count": 9,
   "metadata": {},
   "outputs": [],
   "source": [
    "def reconstruct(string,dict1):\n",
    "    output = \"\"\n",
    "    for i in range(len(string)):\n",
    "        for j in range(i):\n",
    "            word = string[j:i+1]\n",
    "            if word in dict1:\n",
    "                output = output + word + \" \"\n",
    "    return output"
   ]
  },
  {
   "cell_type": "code",
   "execution_count": 10,
   "metadata": {},
   "outputs": [],
   "source": [
    "string = \"itwasthebestoftimes...\"\n",
    "dict1 = [\"it\", \"was\", \"the\", \"best\", \"of\", \"times\", \".\"]"
   ]
  },
  {
   "cell_type": "code",
   "execution_count": 11,
   "metadata": {},
   "outputs": [
    {
     "name": "stdout",
     "output_type": "stream",
     "text": [
      "it was the best of times \n"
     ]
    }
   ],
   "source": [
    "print(reconstruct(string,dict1))"
   ]
  },
  {
   "cell_type": "markdown",
   "metadata": {},
   "source": [
    "## Knapsack Problem (Lectures)"
   ]
  },
  {
   "cell_type": "code",
   "execution_count": 65,
   "metadata": {},
   "outputs": [],
   "source": [
    "def knapsack(weights, values, B):\n",
    "    n = len(values)\n",
    "    K = np.zeros((n,B+1))\n",
    "    for i in range(1,n,1):\n",
    "        for b in range(0,B+1,1):\n",
    "            if weights[i]<= b:\n",
    "                K[i,b] = max(K[i-1,b-weights[i]] + values[i], K[i-1,b])\n",
    "            else:\n",
    "                K[i,b] = K[i-1,b]\n",
    "    print(K)\n",
    "    return K[n-1,-1]"
   ]
  },
  {
   "cell_type": "code",
   "execution_count": 66,
   "metadata": {},
   "outputs": [
    {
     "name": "stdout",
     "output_type": "stream",
     "text": [
      "[[ 0.  0.  0.  0.  0.  0.  0.  0.  0.  0.  0.  0.  0.  0.  0.  0.  0.  0.\n",
      "   0.  0.  0.  0.  0.]\n",
      " [ 0.  0.  0.  0.  0.  0.  0.  0.  0.  0.  0.  0. 10. 10. 10. 10. 10. 10.\n",
      "  10. 10. 10. 10. 10.]\n",
      " [ 0.  0.  0.  0.  0.  0.  0.  0.  0.  0.  8.  8. 10. 10. 10. 10. 10. 10.\n",
      "  10. 10. 10. 10. 18.]\n",
      " [ 0.  0.  0.  0.  0.  1.  1.  1.  1.  1.  8.  8. 10. 10. 10. 10. 10. 11.\n",
      "  11. 11. 11. 11. 18.]]\n",
      "18.0\n"
     ]
    }
   ],
   "source": [
    "weights = [15,12,10,5]\n",
    "values = [15,10,8,1]\n",
    "B = 22\n",
    "print(knapsack(weights, values, B))"
   ]
  },
  {
   "cell_type": "markdown",
   "metadata": {},
   "source": [
    "## Q 6.7) Longest Palindrome Subsequence\n",
    "\n",
    "### Explanation to the solution can be found here: https://youtu.be/TLaGwTnd3HY \n",
    "#### - credits https://www.geeksforgeeks.org/longest-palindromic-subsequence-dp-12/"
   ]
  },
  {
   "cell_type": "code",
   "execution_count": 67,
   "metadata": {},
   "outputs": [],
   "source": [
    "def longest_palindrome_subsequenece(seq):\n",
    "    n = len(seq)\n",
    "    L = np.zeros((n,n))\n",
    "    for i in range(n):\n",
    "        L[i][i] = 1\n",
    "    for sl in range(2,n+1,1):\n",
    "        for i in range(0,n-sl+1):\n",
    "            j = i + sl -1\n",
    "            if seq[i] == seq[j]:\n",
    "                L[i,j] = L[i+1,j-1] + 2\n",
    "            else:\n",
    "                L[i,j] = max(L[i+1,j],L[i,j-1])\n",
    "    #print(L)\n",
    "    return L[0,n-1]"
   ]
  },
  {
   "cell_type": "code",
   "execution_count": 68,
   "metadata": {},
   "outputs": [
    {
     "name": "stdout",
     "output_type": "stream",
     "text": [
      "8.0\n"
     ]
    }
   ],
   "source": [
    "seq = \"BABCBAB\"\n",
    "seq = \"ACGTGTCAAAATCG\"\n",
    "print(longest_palindrome_subsequenece(seq))"
   ]
  },
  {
   "cell_type": "code",
   "execution_count": 112,
   "metadata": {},
   "outputs": [],
   "source": [
    "def tender_change(deno, value):\n",
    "    n = len(deno)\n",
    "    K = np.zeros(value+1)\n",
    "    #print(n)\n",
    "    for g in range(1,value+1,1):\n",
    "        for i in range(len(deno)):\n",
    "            #print(i)\n",
    "            if g >= deno[i] and K[g]!=value:\n",
    "                K[g] = K[g-deno[i]] + deno[i]\n",
    "    #print(K)\n",
    "    if K[-1] == value:\n",
    "        return True\n",
    "    else:\n",
    "        return False\n",
    "    \n",
    "    "
   ]
  },
  {
   "cell_type": "code",
   "execution_count": 113,
   "metadata": {},
   "outputs": [
    {
     "name": "stdout",
     "output_type": "stream",
     "text": [
      "True\n"
     ]
    }
   ],
   "source": [
    "deno = [3,5,2]\n",
    "value = 13\n",
    "print(tender_change(deno, value))"
   ]
  },
  {
   "cell_type": "code",
   "execution_count": null,
   "metadata": {},
   "outputs": [],
   "source": []
  },
  {
   "cell_type": "code",
   "execution_count": null,
   "metadata": {},
   "outputs": [],
   "source": []
  }
 ],
 "metadata": {
  "kernelspec": {
   "display_name": "Python 3",
   "language": "python",
   "name": "python3"
  },
  "language_info": {
   "codemirror_mode": {
    "name": "ipython",
    "version": 3
   },
   "file_extension": ".py",
   "mimetype": "text/x-python",
   "name": "python",
   "nbconvert_exporter": "python",
   "pygments_lexer": "ipython3",
   "version": "3.7.3"
  }
 },
 "nbformat": 4,
 "nbformat_minor": 2
}
